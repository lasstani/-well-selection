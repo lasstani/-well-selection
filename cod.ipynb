{
 "cells": [
  {
   "cell_type": "markdown",
   "metadata": {},
   "source": [
    "# Выбор локации для скважины"
   ]
  },
  {
   "cell_type": "markdown",
   "metadata": {},
   "source": [
    "Допустим, вы работаете в добывающей компании «ГлавРосГосНефть». Нужно решить, в каком регионе бурить новую скважину.\n",
    "\n",
    "Вам предоставлены пробы нефти в трёх регионах: в каждом 10 000 месторождений, где измерили качество нефти и объём её запасов. Постройте модель машинного обучения, которая поможет определить регион, где добыча принесёт наибольшую прибыль. Проанализируйте возможную прибыль и риски техникой *Bootstrap.*\n",
    "\n",
    "Шаги для выбора локации:\n",
    "\n",
    "- В избранном регионе ищут месторождения, для каждого определяют значения признаков;\n",
    "- Строят модель и оценивают объём запасов;\n",
    "- Выбирают месторождения с самым высокими оценками значений. Количество месторождений зависит от бюджета компании и стоимости разработки одной скважины;\n",
    "- Прибыль равна суммарной прибыли отобранных месторождений."
   ]
  },
  {
   "cell_type": "markdown",
   "metadata": {},
   "source": [
    "## Загрузка и подготовка данных"
   ]
  },
  {
   "cell_type": "code",
   "execution_count": 1,
   "metadata": {},
   "outputs": [],
   "source": [
    "import pandas as pd\n",
    "import numpy as np\n",
    "from sklearn.model_selection import train_test_split\n",
    "from sklearn.linear_model import LinearRegression\n",
    "from sklearn.metrics import mean_squared_error\n",
    "import scipy.stats as st\n",
    "from sklearn.preprocessing import MinMaxScaler\n",
    "\n",
    "import warnings\n",
    "warnings.filterwarnings(\"ignore\")"
   ]
  },
  {
   "cell_type": "code",
   "execution_count": 2,
   "metadata": {},
   "outputs": [],
   "source": [
    "data0 = pd.read_csv('/datasets/geo_data_0.csv')\n",
    "data1 = pd.read_csv('/datasets/geo_data_1.csv')\n",
    "data2 = pd.read_csv('/datasets/geo_data_2.csv')"
   ]
  },
  {
   "cell_type": "code",
   "execution_count": 3,
   "metadata": {},
   "outputs": [
    {
     "name": "stdout",
     "output_type": "stream",
     "text": [
      "<class 'pandas.core.frame.DataFrame'>\n",
      "RangeIndex: 100000 entries, 0 to 99999\n",
      "Data columns (total 5 columns):\n",
      "id         100000 non-null object\n",
      "f0         100000 non-null float64\n",
      "f1         100000 non-null float64\n",
      "f2         100000 non-null float64\n",
      "product    100000 non-null float64\n",
      "dtypes: float64(4), object(1)\n",
      "memory usage: 3.8+ MB\n",
      "<class 'pandas.core.frame.DataFrame'>\n",
      "RangeIndex: 100000 entries, 0 to 99999\n",
      "Data columns (total 5 columns):\n",
      "id         100000 non-null object\n",
      "f0         100000 non-null float64\n",
      "f1         100000 non-null float64\n",
      "f2         100000 non-null float64\n",
      "product    100000 non-null float64\n",
      "dtypes: float64(4), object(1)\n",
      "memory usage: 3.8+ MB\n",
      "<class 'pandas.core.frame.DataFrame'>\n",
      "RangeIndex: 100000 entries, 0 to 99999\n",
      "Data columns (total 5 columns):\n",
      "id         100000 non-null object\n",
      "f0         100000 non-null float64\n",
      "f1         100000 non-null float64\n",
      "f2         100000 non-null float64\n",
      "product    100000 non-null float64\n",
      "dtypes: float64(4), object(1)\n",
      "memory usage: 3.8+ MB\n"
     ]
    }
   ],
   "source": [
    "data0.info()\n",
    "data1.info()\n",
    "data2.info()"
   ]
  },
  {
   "cell_type": "markdown",
   "metadata": {},
   "source": [
    "Открываем файл с данными и изучаем общую информацию. В таблицах нет пропусков. Большинство данных имеют тип  *float, object*."
   ]
  },
  {
   "cell_type": "markdown",
   "metadata": {},
   "source": [
    "Округлим вверх объём запасов в скважине (тыс. баррелей), обратимся к функции *np.ceil()*  и сделаем тип данных целочисленным с помощью метода *astype()*."
   ]
  },
  {
   "cell_type": "code",
   "execution_count": 4,
   "metadata": {},
   "outputs": [],
   "source": [
    "data0['product'] = np.ceil(data0['product']).astype('int')\n",
    "data1['product'] = np.ceil(data1['product']).astype('int')\n",
    "data2['product'] = np.ceil(data2['product']).astype('int')"
   ]
  },
  {
   "cell_type": "markdown",
   "metadata": {},
   "source": [
    "Исключим категориальный признак *'id'*  в каждой таблице, поскольку он портит модель."
   ]
  },
  {
   "cell_type": "code",
   "execution_count": 5,
   "metadata": {},
   "outputs": [],
   "source": [
    "del data0['id']\n",
    "del data1['id']\n",
    "del data2['id']"
   ]
  },
  {
   "cell_type": "code",
   "execution_count": 6,
   "metadata": {},
   "outputs": [
    {
     "name": "stdout",
     "output_type": "stream",
     "text": [
      "Количество дубликатов в таблице data0:  0\n",
      "Количество дубликатов в таблице data1:  0\n",
      "Количество дубликатов в таблице data2:  0\n"
     ]
    }
   ],
   "source": [
    "print('Количество дубликатов в таблице data0: ', data0.duplicated().sum())\n",
    "print('Количество дубликатов в таблице data1: ', data1.duplicated().sum())\n",
    "print('Количество дубликатов в таблице data2: ', data2.duplicated().sum())"
   ]
  },
  {
   "cell_type": "markdown",
   "metadata": {},
   "source": [
    "Дубликатов нет."
   ]
  },
  {
   "cell_type": "markdown",
   "metadata": {},
   "source": [
    "## Обучение и проверка модели"
   ]
  },
  {
   "cell_type": "markdown",
   "metadata": {},
   "source": [
    "Для того, чтобы разбить данные на выборки воспользуемся методом *train_test_split()*. В обучающей от всего набора данных получилось 75%, 25% - в валидационной."
   ]
  },
  {
   "cell_type": "code",
   "execution_count": 7,
   "metadata": {},
   "outputs": [],
   "source": [
    "def split_and_train(data):\n",
    "    \n",
    "    features = data.drop(['product'], axis=1)\n",
    "    target = data['product']\n",
    "    features_train, features_valid, target_train, target_valid = train_test_split(features, \n",
    "                                                                                  target, \n",
    "                                                                                  test_size=0.25, \n",
    "                                                                                  random_state=12345)\n",
    "    scaler = MinMaxScaler()\n",
    "    features_train = scaler.fit_transform(features_train)\n",
    "    features_valid = scaler.transform(features_valid)\n",
    "    \n",
    "    return features_train, features_valid, target_train, target_valid.reset_index(drop=True)"
   ]
  },
  {
   "cell_type": "code",
   "execution_count": 8,
   "metadata": {},
   "outputs": [],
   "source": [
    "features0_train, features0_valid, target0_train, target0_valid = split_and_train(data0)"
   ]
  },
  {
   "cell_type": "code",
   "execution_count": 9,
   "metadata": {},
   "outputs": [],
   "source": [
    "features1_train, features1_valid, target1_train, target1_valid = split_and_train(data1)"
   ]
  },
  {
   "cell_type": "code",
   "execution_count": 10,
   "metadata": {},
   "outputs": [],
   "source": [
    "features2_train, features2_valid, target2_train, target2_valid = split_and_train(data2)"
   ]
  },
  {
   "cell_type": "markdown",
   "metadata": {},
   "source": [
    "Наиболее распространённая метрика качества в задаче регрессии — средняя квадратичная ошибка, MSE. Величина MSE должна быть как можно меньше. Квадратные единицы нам не нужны, поэтому возьмем корень из этой величины и получим величину RMSE."
   ]
  },
  {
   "cell_type": "code",
   "execution_count": 11,
   "metadata": {},
   "outputs": [],
   "source": [
    "def modelLR(features_train,target_train,features_valid,target_valid):\n",
    "    model = LinearRegression(normalize  = False)\n",
    "    model.fit(features_train,target_train) # обучаем модель на тренировочной выборке\n",
    "    predictions_valid = model.predict(features_valid) # получаем предсказания модели на валидационной выборке\n",
    "\n",
    "    predictions_valid = pd.Series(predictions_valid)\n",
    "    \n",
    "    result = mean_squared_error(target_valid, predictions_valid)**0.5 # посчитаем значение метрики RMSE на валидационной выборке\n",
    "    print(\"RMSE модели линейной регрессии на валидационной выборке: \", result)\n",
    "    mean_volue = round(predictions_valid.mean(),2)\n",
    "    print(\"Cредний запас предсказанного сырья: \", mean_volue)\n",
    "    \n",
    "    return  predictions_valid"
   ]
  },
  {
   "cell_type": "code",
   "execution_count": 12,
   "metadata": {},
   "outputs": [
    {
     "name": "stdout",
     "output_type": "stream",
     "text": [
      "0-ой регион:\n",
      "RMSE модели линейной регрессии на валидационной выборке:  37.58106084247383\n",
      "Cредний запас предсказанного сырья:  93.09\n"
     ]
    }
   ],
   "source": [
    "print(\"0-ой регион:\")\n",
    "predictions0_valid = modelLR(features0_train,target0_train,features0_valid,target0_valid)"
   ]
  },
  {
   "cell_type": "code",
   "execution_count": 13,
   "metadata": {},
   "outputs": [
    {
     "name": "stdout",
     "output_type": "stream",
     "text": [
      "1-ой регион:\n",
      "RMSE модели линейной регрессии на валидационной выборке:  1.0627821385747935\n",
      "Cредний запас предсказанного сырья:  69.09\n"
     ]
    }
   ],
   "source": [
    "print(\"1-ой регион:\")\n",
    "predictions1_valid = modelLR(features1_train,target1_train,features1_valid,target1_valid)"
   ]
  },
  {
   "cell_type": "code",
   "execution_count": 14,
   "metadata": {},
   "outputs": [
    {
     "name": "stdout",
     "output_type": "stream",
     "text": [
      "2-ой регион:\n",
      "RMSE модели линейной регрессии на валидационной выборке:  40.03083681476167\n",
      "Cредний запас предсказанного сырья:  95.47\n"
     ]
    }
   ],
   "source": [
    "print(\"2-ой регион:\")\n",
    "predictions2_valid = modelLR(features2_train,target2_train,features2_valid,target2_valid)"
   ]
  },
  {
   "cell_type": "markdown",
   "metadata": {},
   "source": [
    "## Подготовка к расчёту прибыли"
   ]
  },
  {
   "cell_type": "markdown",
   "metadata": {},
   "source": [
    "Бюджет на разработку скважин в регионе — 10 млрд рублей.\n",
    "При нынешних ценах один баррель сырья приносит 450 рублей дохода. Доход с каждой единицы продукта составляет 450 тыс. рублей, поскольку объём указан в тысячах баррелей."
   ]
  },
  {
   "cell_type": "code",
   "execution_count": 15,
   "metadata": {},
   "outputs": [],
   "source": [
    "income_per_bar = 450*10**3\n",
    "budget = 10**10"
   ]
  },
  {
   "cell_type": "markdown",
   "metadata": {},
   "source": [
    "Рассчитаем достаточный объём сырья для безубыточной разработки новой скважины. Для этого необходимо взять отношение бюджета на разработку скважин в регионе и доход с каждой единицы продукта."
   ]
  },
  {
   "cell_type": "code",
   "execution_count": 16,
   "metadata": {},
   "outputs": [
    {
     "name": "stdout",
     "output_type": "stream",
     "text": [
      "Достаточный объём сырья для безубыточной разработки новой скважины  в тыс. баррелях:  22222\n"
     ]
    }
   ],
   "source": [
    "print(\"Достаточный объём сырья для безубыточной разработки новой скважины  в тыс. баррелях: \", int(budget  / income_per_bar))"
   ]
  },
  {
   "cell_type": "markdown",
   "metadata": {},
   "source": [
    "Сравним полученный объём сырья со средним запасом в каждом регионе."
   ]
  },
  {
   "cell_type": "code",
   "execution_count": 17,
   "metadata": {},
   "outputs": [
    {
     "name": "stdout",
     "output_type": "stream",
     "text": [
      "Средний запас нефти в скважине для безубыточного функционирования:  112.0\n"
     ]
    }
   ],
   "source": [
    "print(\"Средний запас нефти в скважине для безубыточного функционирования: \",np.ceil(int(budget  / income_per_bar)  / 200))"
   ]
  },
  {
   "cell_type": "markdown",
   "metadata": {},
   "source": [
    "Средний запас нефти в скважине для безубыточного функционирования больше, чем среднее значение запаса сырья в каждом регионе. "
   ]
  },
  {
   "cell_type": "markdown",
   "metadata": {},
   "source": [
    "## Расчёт прибыли и рисков "
   ]
  },
  {
   "cell_type": "markdown",
   "metadata": {},
   "source": [
    "Напишем функцию *revenue()* для расчёта прибыли по выбранным скважинам и предсказаниям модели:\n",
    " - выберите скважины с максимальными значениями предсказаний (top_probs);\n",
    " - просуммируем целевое значение объёма сырья, соответствующее этим предсказаниям (revenue);\n",
    " - рассчитайте прибыль для полученного объёма сырья (revenue - budget)."
   ]
  },
  {
   "cell_type": "code",
   "execution_count": 18,
   "metadata": {},
   "outputs": [],
   "source": [
    "def revenue(predictions, target, count):\n",
    "    top_preds = predictions.sort_values(ascending=False)\n",
    "    top_target = target[top_preds.index][:count]\n",
    "    revenue = top_target.sum() * income_per_bar\n",
    "    return revenue - budget"
   ]
  },
  {
   "cell_type": "markdown",
   "metadata": {},
   "source": [
    "Посчитаем риски и прибыль для каждого региона."
   ]
  },
  {
   "cell_type": "code",
   "execution_count": 19,
   "metadata": {},
   "outputs": [],
   "source": [
    "state = np.random.RandomState(12345)"
   ]
  },
  {
   "cell_type": "markdown",
   "metadata": {},
   "source": [
    "Применим технику Bootstrap с 1000 выборок, чтобы найти распределение прибыли. Найдем среднюю прибыль, 95%-й доверительный интервал и риск убытков. Убыток — это отрицательная прибыль."
   ]
  },
  {
   "cell_type": "code",
   "execution_count": 20,
   "metadata": {},
   "outputs": [],
   "source": [
    "def interval_and_risk(predictions, target):\n",
    "    values = []\n",
    "    for i in range(1000):\n",
    "        target_subsample = target.sample(n=500, replace=True, random_state=state)\n",
    "        preds_subsample = predictions[target_subsample.index]\n",
    "    \n",
    "        values.append(revenue(preds_subsample,target_subsample,200))\n",
    "\n",
    "    values = pd.Series(values)\n",
    "    mean_revenue = int(values.mean())\n",
    "    \n",
    "    lower = values.quantile(0.025)\n",
    "    upper = values.quantile(0.975)\n",
    "    risk = st.percentileofscore(values, 0)\n",
    "\n",
    "    return (lower, upper), mean_revenue, risk"
   ]
  },
  {
   "cell_type": "code",
   "execution_count": 21,
   "metadata": {},
   "outputs": [
    {
     "data": {
      "text/plain": [
       "((-55607499.99999999, 993556249.9999999), 470707550, 4.4)"
      ]
     },
     "execution_count": 21,
     "metadata": {},
     "output_type": "execute_result"
    }
   ],
   "source": [
    "interval_and_risk(predictions0_valid, target0_valid)"
   ]
  },
  {
   "cell_type": "code",
   "execution_count": 22,
   "metadata": {},
   "outputs": [
    {
     "data": {
      "text/plain": [
       "((155071250.0, 967422500.0), 540547100, 0.1)"
      ]
     },
     "execution_count": 22,
     "metadata": {},
     "output_type": "execute_result"
    }
   ],
   "source": [
    "interval_and_risk(predictions1_valid, target1_valid)"
   ]
  },
  {
   "cell_type": "code",
   "execution_count": 23,
   "metadata": {},
   "outputs": [
    {
     "data": {
      "text/plain": [
       "((-68567500.0, 1032706250.0), 465326450, 4.7)"
      ]
     },
     "execution_count": 23,
     "metadata": {},
     "output_type": "execute_result"
    }
   ],
   "source": [
    "interval_and_risk(predictions2_valid, target2_valid)"
   ]
  },
  {
   "cell_type": "markdown",
   "metadata": {},
   "source": [
    "После оценки рисков нужно оставить лишь те регионы, в которых вероятность убытков меньше 2.5%. У нас получилось, что это первый регион. Следовательно, первый регион - это регион, где добыча принесёт наибольшую прибыль и риски минимальны."
   ]
  },
  {
   "cell_type": "code",
   "execution_count": null,
   "metadata": {},
   "outputs": [],
   "source": []
  }
 ],
 "metadata": {
  "kernelspec": {
   "display_name": "Python 3",
   "language": "python",
   "name": "python3"
  },
  "language_info": {
   "codemirror_mode": {
    "name": "ipython",
    "version": 3
   },
   "file_extension": ".py",
   "mimetype": "text/x-python",
   "name": "python",
   "nbconvert_exporter": "python",
   "pygments_lexer": "ipython3",
   "version": "3.8.3"
  },
  "toc": {
   "base_numbering": 1,
   "nav_menu": {},
   "number_sections": true,
   "sideBar": true,
   "skip_h1_title": true,
   "title_cell": "Table of Contents",
   "title_sidebar": "Contents",
   "toc_cell": false,
   "toc_position": {},
   "toc_section_display": true,
   "toc_window_display": false
  }
 },
 "nbformat": 4,
 "nbformat_minor": 2
}
